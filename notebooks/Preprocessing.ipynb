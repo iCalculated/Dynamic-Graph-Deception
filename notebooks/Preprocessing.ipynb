{
 "cells": [
  {
   "cell_type": "code",
   "execution_count": 1,
   "id": "0687eae0",
   "metadata": {},
   "outputs": [
    {
     "data": {
      "text/plain": [
       "'\\nimport tarfile\\n\\ntar = tarfile.open(\\'comm-f2f-Resistance-network.tar.gz\\', \"r:gz\")\\ntar.extractall()\\ntar.close()\\n'"
      ]
     },
     "execution_count": 1,
     "metadata": {},
     "output_type": "execute_result"
    }
   ],
   "source": [
    "\"\"\"\n",
    "import tarfile\n",
    "\n",
    "tar = tarfile.open('comm-f2f-Resistance-network.tar.gz', \"r:gz\")\n",
    "tar.extractall()\n",
    "tar.close()\n",
    "\"\"\""
   ]
  },
  {
   "cell_type": "code",
   "execution_count": 71,
   "id": "2227360f",
   "metadata": {},
   "outputs": [
    {
     "name": "stdout",
     "output_type": "stream",
     "text": [
      "/Users/shy/Projects/CSCI5527/project/data\n",
      "network_list.csv  node_role.csv  \u001b[1;34mprocessed_networks\u001b[0m/  \u001b[1;34mraw_networks\u001b[0m/\n"
     ]
    }
   ],
   "source": [
    "%cd \"../data\"\n",
    "%ls"
   ]
  },
  {
   "cell_type": "markdown",
   "id": "4194c6e0",
   "metadata": {},
   "source": [
    "Code taken from the README file"
   ]
  },
  {
   "cell_type": "code",
   "execution_count": 72,
   "id": "54aca898",
   "metadata": {},
   "outputs": [],
   "source": [
    "import numpy as np\n",
    "import pandas as pd\n",
    "\n",
    "src = 'raw_networks' # root dir of data\n",
    "meta = pd.read_csv('network_list.csv')\n",
    "roles = pd.read_csv('node_role.csv')\n",
    "THRESHOLD = 0.7\n",
    "\n",
    "def load_game(game, is_weighted):\n",
    "    # N is the number of players in the game\n",
    "    # load csv data\n",
    "    # unweighted and weighted networks can be loaded exactly the same way\n",
    "    # below shows the loader for weighted networks\n",
    "    \n",
    "    df_network = pd.read_csv(f\"{src}/network{game}_weighted.csv\" if is_weighted else f\"{src}/network{game}.csv\", index_col=0)\n",
    "\n",
    "    # for dense repr\n",
    "    #df_network = pd.read_csv(f\"{src}/network{game}_weighted.csv\", index_col=0)\n",
    "    \n",
    "    # get meta NUMBER_OF_PARTICIPANTS by game NETWORK id\n",
    "    N = meta.loc[game, \"NUMBER_OF_PARTICIPANTS\"]\n",
    "\n",
    "    # T is number of timestamps (10 frames)\n",
    "    T = len(df_network)\n",
    "    # load VFOA network to T x N x (N+1) array\n",
    "    # vfoa[t, n, i] is the probability of player n+1 looking at object i at time t\n",
    "    # i: 0 - laptop, 1 - player 1, 2 - player 2, ..., N - player N\n",
    "    vfoa = np.reshape(df_network.values, (T, N, N + 1))\n",
    "\n",
    "    # print information\n",
    "    print(f\"network id:{game}\\t length(x 1/3 second): {T}\\t num of players: {N}\")\n",
    "    return vfoa\n",
    "\n",
    "def process_game(game, game_id, feature_type='constant'):\n",
    "    records = []\n",
    "\n",
    "    t, n1, n2 = game.shape\n",
    "\n",
    "    # this is 0-indexed while nodes are 1-indexed\n",
    "    game_roles = {i: roles[\n",
    "                (roles[\"node\"] == f\"P{i+1}\") & (roles[\"ID\"] == game_id)\n",
    "            ][\"role\"].values[0]-1 for i in range(n1)}\n",
    "\n",
    "    records = []\n",
    "    for timestep, frame in enumerate(game):\n",
    "        #print(f\"timestep {timestep} {frame}\")\n",
    "\n",
    "        # get max index of each row\n",
    "        max_index = np.argmax(frame, axis=1)\n",
    "        \n",
    "        # get max value of each row\n",
    "        max_value = np.max(frame, axis=1)\n",
    "        \n",
    "        for i, item_id in enumerate(max_index):\n",
    "            if max_value[i] < THRESHOLD:\n",
    "                continue\n",
    "            # get the role of user i in game game_id\n",
    "            role = game_roles[i] \n",
    "    \n",
    "            features = []\n",
    "            if feature_type == 'constant':\n",
    "                features.append(1)\n",
    "            elif feature_type == 'prob':\n",
    "                features.append(max_value[i])\n",
    "            elif feature_type == 'labels':\n",
    "                pass\n",
    "            elif feature_type == 'probabilities':\n",
    "                pass #TODO\n",
    "            # record: user_id, item_id, timestamp, state_label, (empty) feature\n",
    "            records.append([game_id * 10 + i + 1, game_id * 10 + item_id, timestep, role] + features)\n",
    "    \n",
    "    return records"
   ]
  },
  {
   "cell_type": "markdown",
   "id": "e493d2e9",
   "metadata": {},
   "source": [
    "Flatten the adjacency matrix so that each row represents the gaze vector of the user.  \n",
    "Convert this into the wikipedia format and save as CSV "
   ]
  },
  {
   "cell_type": "markdown",
   "id": "c131f8b9",
   "metadata": {},
   "source": [
    "### Create Single Network CSVs"
   ]
  },
  {
   "cell_type": "code",
   "execution_count": 30,
   "id": "2383aacb",
   "metadata": {
    "collapsed": true
   },
   "outputs": [
    {
     "name": "stdout",
     "output_type": "stream",
     "text": [
      "network id:0\t length(x 1/3 second): 7323\t num of players: 7\n",
      "[0.534 0.503 0.533 0.377 0.357 0.15  0.172]\n"
     ]
    },
    {
     "ename": "NameError",
     "evalue": "name 'featuers' is not defined",
     "output_type": "error",
     "traceback": [
      "\u001b[0;31m---------------------------------------------------------------------------\u001b[0m",
      "\u001b[0;31mNameError\u001b[0m                                 Traceback (most recent call last)",
      "Cell \u001b[0;32mIn [30], line 9\u001b[0m\n\u001b[1;32m      5\u001b[0m     \u001b[38;5;28;01mcontinue\u001b[39;00m\n\u001b[1;32m      7\u001b[0m game \u001b[38;5;241m=\u001b[39m load_game(game_id, \u001b[38;5;28;01mTrue\u001b[39;00m)\n\u001b[0;32m----> 9\u001b[0m records \u001b[38;5;241m=\u001b[39m \u001b[43mprocess_game\u001b[49m\u001b[43m(\u001b[49m\u001b[43mgame\u001b[49m\u001b[43m,\u001b[49m\u001b[43m \u001b[49m\u001b[43mfeatures\u001b[49m\u001b[38;5;241;43m=\u001b[39;49m\u001b[38;5;124;43m'\u001b[39;49m\u001b[38;5;124;43mprob\u001b[39;49m\u001b[38;5;124;43m'\u001b[39;49m\u001b[43m)\u001b[49m\n\u001b[1;32m     12\u001b[0m game_df \u001b[38;5;241m=\u001b[39m pd\u001b[38;5;241m.\u001b[39mDataFrame(records, columns\u001b[38;5;241m=\u001b[39m[\u001b[38;5;124m'\u001b[39m\u001b[38;5;124muser_id\u001b[39m\u001b[38;5;124m'\u001b[39m, \u001b[38;5;124m'\u001b[39m\u001b[38;5;124mitem_id\u001b[39m\u001b[38;5;124m'\u001b[39m, \u001b[38;5;124m'\u001b[39m\u001b[38;5;124mtimestamp\u001b[39m\u001b[38;5;124m'\u001b[39m, \u001b[38;5;124m'\u001b[39m\u001b[38;5;124mstate_label\u001b[39m\u001b[38;5;124m'\u001b[39m, \u001b[38;5;124m'\u001b[39m\u001b[38;5;124mcomma_separated_list_of_features\u001b[39m\u001b[38;5;124m'\u001b[39m])\n\u001b[1;32m     13\u001b[0m game_df\u001b[38;5;241m.\u001b[39mto_csv(\u001b[38;5;124mf\u001b[39m\u001b[38;5;124m\"\u001b[39m\u001b[38;5;124m./network_processed/network_\u001b[39m\u001b[38;5;132;01m{\u001b[39;00mgame_id\u001b[38;5;132;01m}\u001b[39;00m\u001b[38;5;124m.csv\u001b[39m\u001b[38;5;124m\"\u001b[39m, index\u001b[38;5;241m=\u001b[39m\u001b[38;5;28;01mFalse\u001b[39;00m)\n",
      "Cell \u001b[0;32mIn [29], line 64\u001b[0m, in \u001b[0;36mprocess_game\u001b[0;34m(game, features)\u001b[0m\n\u001b[1;32m     62\u001b[0m \u001b[38;5;28;01mif\u001b[39;00m features \u001b[38;5;241m==\u001b[39m \u001b[38;5;124m'\u001b[39m\u001b[38;5;124mconstant\u001b[39m\u001b[38;5;124m'\u001b[39m:\n\u001b[1;32m     63\u001b[0m     features\u001b[38;5;241m.\u001b[39mappend(\u001b[38;5;241m1\u001b[39m)\n\u001b[0;32m---> 64\u001b[0m \u001b[38;5;28;01melif\u001b[39;00m \u001b[43mfeatuers\u001b[49m \u001b[38;5;241m==\u001b[39m \u001b[38;5;124m'\u001b[39m\u001b[38;5;124mprob\u001b[39m\u001b[38;5;124m'\u001b[39m:\n\u001b[1;32m     65\u001b[0m     features\u001b[38;5;241m.\u001b[39mappend(max_value[i])\n\u001b[1;32m     66\u001b[0m \u001b[38;5;28;01melif\u001b[39;00m features \u001b[38;5;241m==\u001b[39m \u001b[38;5;124m'\u001b[39m\u001b[38;5;124mlabels\u001b[39m\u001b[38;5;124m'\u001b[39m:\n",
      "\u001b[0;31mNameError\u001b[0m: name 'featuers' is not defined"
     ]
    }
   ],
   "source": [
    "for _, meta_row in meta.iterrows():\n",
    "    game_id = meta_row['NETWORK']\n",
    "    if len(roles[roles['ID'] == game_id]) == 0:\n",
    "        print(f\"No roles for game {game_id}\")\n",
    "        continue\n",
    "        \n",
    "    game = load_game(game_id, True)\n",
    "    \n",
    "    records = process_game(game, game_id, feature_type='prob')\n",
    "\n",
    "    \n",
    "    game_df = pd.DataFrame(records, columns=['user_id', 'item_id', 'timestamp', 'state_label', 'comma_separated_list_of_features'])\n",
    "    game_df.to_csv(f\"./network_processed/network_{game_id}.csv\", index=False)"
   ]
  },
  {
   "cell_type": "markdown",
   "id": "893ded89",
   "metadata": {},
   "source": [
    "### Create All Network CSV"
   ]
  },
  {
   "cell_type": "code",
   "execution_count": 73,
   "id": "45ca2baf",
   "metadata": {
    "scrolled": true
   },
   "outputs": [
    {
     "name": "stdout",
     "output_type": "stream",
     "text": [
      "network id:0\t length(x 1/3 second): 7323\t num of players: 7\n",
      "No roles for game 1\n",
      "network id:2\t length(x 1/3 second): 7533\t num of players: 7\n",
      "network id:3\t length(x 1/3 second): 6264\t num of players: 7\n",
      "network id:4\t length(x 1/3 second): 7323\t num of players: 8\n",
      "network id:5\t length(x 1/3 second): 9651\t num of players: 8\n",
      "network id:6\t length(x 1/3 second): 7260\t num of players: 7\n",
      "network id:7\t length(x 1/3 second): 7245\t num of players: 6\n",
      "network id:8\t length(x 1/3 second): 6243\t num of players: 7\n",
      "No roles for game 9\n",
      "network id:10\t length(x 1/3 second): 6681\t num of players: 7\n",
      "network id:11\t length(x 1/3 second): 5415\t num of players: 7\n",
      "network id:12\t length(x 1/3 second): 5571\t num of players: 8\n",
      "network id:13\t length(x 1/3 second): 7173\t num of players: 7\n",
      "network id:14\t length(x 1/3 second): 9429\t num of players: 8\n",
      "network id:15\t length(x 1/3 second): 5466\t num of players: 6\n",
      "network id:16\t length(x 1/3 second): 6678\t num of players: 6\n",
      "network id:17\t length(x 1/3 second): 3054\t num of players: 7\n",
      "network id:18\t length(x 1/3 second): 9264\t num of players: 8\n",
      "network id:19\t length(x 1/3 second): 4248\t num of players: 5\n",
      "network id:20\t length(x 1/3 second): 6594\t num of players: 6\n",
      "network id:21\t length(x 1/3 second): 9699\t num of players: 8\n",
      "No roles for game 22\n",
      "No roles for game 23\n",
      "network id:24\t length(x 1/3 second): 7875\t num of players: 5\n",
      "network id:25\t length(x 1/3 second): 7737\t num of players: 8\n",
      "network id:26\t length(x 1/3 second): 5037\t num of players: 7\n",
      "network id:27\t length(x 1/3 second): 5229\t num of players: 8\n",
      "No roles for game 28\n",
      "No roles for game 29\n",
      "No roles for game 30\n",
      "network id:31\t length(x 1/3 second): 5496\t num of players: 8\n",
      "network id:32\t length(x 1/3 second): 5778\t num of players: 8\n",
      "No roles for game 33\n",
      "No roles for game 34\n",
      "No roles for game 35\n",
      "network id:36\t length(x 1/3 second): 7212\t num of players: 7\n",
      "network id:37\t length(x 1/3 second): 4698\t num of players: 8\n",
      "network id:38\t length(x 1/3 second): 4926\t num of players: 7\n",
      "network id:39\t length(x 1/3 second): 3678\t num of players: 7\n",
      "No roles for game 40\n",
      "network id:41\t length(x 1/3 second): 7323\t num of players: 8\n",
      "network id:42\t length(x 1/3 second): 8661\t num of players: 8\n",
      "network id:43\t length(x 1/3 second): 6048\t num of players: 7\n",
      "network id:44\t length(x 1/3 second): 8307\t num of players: 6\n",
      "network id:45\t length(x 1/3 second): 7023\t num of players: 6\n",
      "network id:46\t length(x 1/3 second): 9183\t num of players: 7\n",
      "network id:47\t length(x 1/3 second): 7428\t num of players: 7\n",
      "network id:48\t length(x 1/3 second): 2904\t num of players: 7\n",
      "No roles for game 49\n",
      "network id:50\t length(x 1/3 second): 4758\t num of players: 6\n",
      "network id:51\t length(x 1/3 second): 7320\t num of players: 7\n",
      "network id:52\t length(x 1/3 second): 5553\t num of players: 6\n",
      "No roles for game 53\n",
      "network id:54\t length(x 1/3 second): 7326\t num of players: 8\n",
      "No roles for game 55\n",
      "network id:56\t length(x 1/3 second): 8286\t num of players: 8\n",
      "No roles for game 57\n",
      "No roles for game 58\n",
      "network id:59\t length(x 1/3 second): 4518\t num of players: 7\n",
      "network id:60\t length(x 1/3 second): 6729\t num of players: 7\n",
      "network id:61\t length(x 1/3 second): 8499\t num of players: 8\n"
     ]
    }
   ],
   "source": [
    "records = []\n",
    "for _, meta_row in meta.iterrows():\n",
    "    game_id = meta_row['NETWORK']\n",
    "    if len(roles[roles['ID'] == game_id]) == 0:\n",
    "        print(f\"No roles for game {game_id}\")\n",
    "        continue\n",
    "        \n",
    "    game = load_game(game_id, True)\n",
    "\n",
    "    records += process_game(game, game_id, feature_type='prob')\n",
    "\n",
    "records.sort(key=lambda x: x[2]) # sort by timestep\n",
    "\n",
    "game_df = pd.DataFrame(records, columns=['user_id', 'item_id', 'timestamp', 'state_label', 'comma_separated_list_of_features'])\n",
    "game_df.to_csv(f\"./processed_networks/networks_all.csv\", index=False)"
   ]
  },
  {
   "cell_type": "markdown",
   "id": "e33121f9",
   "metadata": {},
   "source": [
    "## Exploration"
   ]
  },
  {
   "cell_type": "code",
   "execution_count": 68,
   "id": "e0f13df4",
   "metadata": {},
   "outputs": [
    {
     "data": {
      "text/plain": [
       "317325"
      ]
     },
     "execution_count": 68,
     "metadata": {},
     "output_type": "execute_result"
    }
   ],
   "source": [
    "sorted(game_df['comma_separated_list_of_features'].unique())\n",
    "len(game_df)"
   ]
  }
 ],
 "metadata": {
  "kernelspec": {
   "display_name": "Python 3 (ipykernel)",
   "language": "python",
   "name": "python3"
  },
  "language_info": {
   "codemirror_mode": {
    "name": "ipython",
    "version": 3
   },
   "file_extension": ".py",
   "mimetype": "text/x-python",
   "name": "python",
   "nbconvert_exporter": "python",
   "pygments_lexer": "ipython3",
   "version": "3.9.6"
  }
 },
 "nbformat": 4,
 "nbformat_minor": 5
}
