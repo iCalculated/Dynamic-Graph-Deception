{
 "cells": [
  {
   "cell_type": "code",
   "execution_count": 1,
   "id": "0687eae0",
   "metadata": {},
   "outputs": [],
   "source": [
    "import tarfile\n",
    "\n",
    "tar = tarfile.open('comm-f2f-Resistance-network.tar.gz', \"r:gz\")\n",
    "tar.extractall()\n",
    "tar.close()"
   ]
  },
  {
   "cell_type": "markdown",
   "id": "4194c6e0",
   "metadata": {},
   "source": [
    "Code taken from the README file"
   ]
  },
  {
   "cell_type": "code",
   "execution_count": 46,
   "id": "54aca898",
   "metadata": {},
   "outputs": [],
   "source": [
    "import numpy as np\n",
    "import pandas as pd\n",
    "\n",
    "def loadGame(game, N):\n",
    "\t# N is the number of players in the game\n",
    "\t# load csv data\n",
    "\t# unweighted and weighted networks can be loaded exactly the same way\n",
    "\t# below shows the loader for weighted networks\n",
    "\tdf_network = pd.read_csv(f'{src}/network{game}.csv', index_col = 0)\n",
    "\n",
    "\t# T is number of timestamps (10 frames)\n",
    "\tT = len(df_network)\n",
    "\t# load VFOA network to T x N x (N+1) array\n",
    "\t# vfoa[t, n, i] is the probability of player n+1 looking at object i at time t\n",
    "\t# i: 0 - laptop, 1 - player 1, 2 - player 2, ..., N - player N\n",
    "\tvfoa = np.reshape(df_network.values, (T,N,N+1))\n",
    "\n",
    "\t# print information\n",
    "\tprint(f'network id:{game}\\t length(x 1/3 second): {T}\\t num of players: {N}')\n",
    "\treturn vfoa\n",
    "\n",
    "src = './network' # root dir of data\n",
    "meta = pd.read_csv('network_list.csv')"
   ]
  },
  {
   "cell_type": "markdown",
   "id": "e493d2e9",
   "metadata": {},
   "source": [
    "Flatten the adjacency matrix so that each row represents the gaze vector of the user.  \n",
    "Convert this into the wikipedia format and save as CSV  \n",
    "\n",
    "Note: Create an empty folder 'network_processed'"
   ]
  },
  {
   "cell_type": "code",
   "execution_count": 75,
   "id": "2383aacb",
   "metadata": {
    "scrolled": true
   },
   "outputs": [
    {
     "name": "stdout",
     "output_type": "stream",
     "text": [
      "network id:0\t length(x 1/3 second): 7323\t num of players: 7\n",
      "network id:1\t length(x 1/3 second): 5328\t num of players: 8\n",
      "network id:2\t length(x 1/3 second): 7533\t num of players: 7\n",
      "network id:3\t length(x 1/3 second): 6264\t num of players: 7\n",
      "network id:4\t length(x 1/3 second): 7323\t num of players: 8\n",
      "network id:5\t length(x 1/3 second): 9651\t num of players: 8\n",
      "network id:6\t length(x 1/3 second): 7260\t num of players: 7\n",
      "network id:7\t length(x 1/3 second): 7245\t num of players: 6\n",
      "network id:8\t length(x 1/3 second): 6243\t num of players: 7\n",
      "network id:9\t length(x 1/3 second): 8340\t num of players: 8\n",
      "network id:10\t length(x 1/3 second): 6681\t num of players: 7\n",
      "network id:11\t length(x 1/3 second): 5415\t num of players: 7\n",
      "network id:12\t length(x 1/3 second): 5571\t num of players: 8\n",
      "network id:13\t length(x 1/3 second): 7173\t num of players: 7\n",
      "network id:14\t length(x 1/3 second): 9429\t num of players: 8\n",
      "network id:15\t length(x 1/3 second): 5466\t num of players: 6\n",
      "network id:16\t length(x 1/3 second): 6678\t num of players: 6\n",
      "network id:17\t length(x 1/3 second): 3054\t num of players: 7\n",
      "network id:18\t length(x 1/3 second): 9264\t num of players: 8\n",
      "network id:19\t length(x 1/3 second): 4248\t num of players: 5\n",
      "network id:20\t length(x 1/3 second): 6594\t num of players: 6\n",
      "network id:21\t length(x 1/3 second): 9699\t num of players: 8\n",
      "network id:22\t length(x 1/3 second): 7662\t num of players: 8\n",
      "network id:23\t length(x 1/3 second): 9537\t num of players: 8\n",
      "network id:24\t length(x 1/3 second): 7875\t num of players: 5\n",
      "network id:25\t length(x 1/3 second): 7737\t num of players: 8\n",
      "network id:26\t length(x 1/3 second): 5037\t num of players: 7\n",
      "network id:27\t length(x 1/3 second): 5229\t num of players: 8\n",
      "network id:28\t length(x 1/3 second): 7683\t num of players: 8\n",
      "network id:29\t length(x 1/3 second): 6360\t num of players: 8\n",
      "network id:30\t length(x 1/3 second): 7806\t num of players: 8\n",
      "network id:31\t length(x 1/3 second): 5496\t num of players: 8\n",
      "network id:32\t length(x 1/3 second): 5778\t num of players: 8\n",
      "network id:33\t length(x 1/3 second): 7431\t num of players: 8\n",
      "network id:34\t length(x 1/3 second): 10611\t num of players: 8\n",
      "network id:35\t length(x 1/3 second): 7011\t num of players: 7\n",
      "network id:36\t length(x 1/3 second): 7212\t num of players: 7\n",
      "network id:37\t length(x 1/3 second): 4698\t num of players: 8\n",
      "network id:38\t length(x 1/3 second): 4926\t num of players: 7\n",
      "network id:39\t length(x 1/3 second): 3678\t num of players: 7\n",
      "network id:40\t length(x 1/3 second): 6939\t num of players: 8\n",
      "network id:41\t length(x 1/3 second): 7323\t num of players: 8\n",
      "network id:42\t length(x 1/3 second): 8661\t num of players: 8\n",
      "network id:43\t length(x 1/3 second): 6048\t num of players: 7\n",
      "network id:44\t length(x 1/3 second): 8307\t num of players: 6\n",
      "network id:45\t length(x 1/3 second): 7023\t num of players: 6\n",
      "network id:46\t length(x 1/3 second): 9183\t num of players: 7\n",
      "network id:47\t length(x 1/3 second): 7428\t num of players: 7\n",
      "network id:48\t length(x 1/3 second): 2904\t num of players: 7\n",
      "network id:49\t length(x 1/3 second): 5742\t num of players: 7\n",
      "network id:50\t length(x 1/3 second): 4758\t num of players: 6\n",
      "network id:51\t length(x 1/3 second): 7320\t num of players: 7\n",
      "network id:52\t length(x 1/3 second): 5553\t num of players: 6\n",
      "network id:53\t length(x 1/3 second): 5961\t num of players: 8\n",
      "network id:54\t length(x 1/3 second): 7326\t num of players: 8\n",
      "network id:55\t length(x 1/3 second): 6828\t num of players: 7\n",
      "network id:56\t length(x 1/3 second): 8286\t num of players: 8\n",
      "network id:57\t length(x 1/3 second): 6420\t num of players: 8\n",
      "network id:58\t length(x 1/3 second): 10710\t num of players: 8\n",
      "network id:59\t length(x 1/3 second): 4518\t num of players: 7\n",
      "network id:60\t length(x 1/3 second): 6729\t num of players: 7\n",
      "network id:61\t length(x 1/3 second): 8499\t num of players: 8\n"
     ]
    }
   ],
   "source": [
    "for _, meta_row in meta.iterrows():\n",
    "    game = loadGame(meta_row['NETWORK'], meta_row['NUMBER_OF_PARTICIPANTS'])\n",
    "    \n",
    "    records = []\n",
    "\n",
    "    t, n1, n2 = game.shape\n",
    "    game = game.reshape(t*n1, n2)\n",
    "\n",
    "    for i, game_row in enumerate(game):\n",
    "        records.append((i%n1, np.argmax(game_row), i+1, 0, 0))\n",
    "    \n",
    "    game_df = pd.DataFrame(records, columns=['user_id', 'item_id', 'timestamp', 'state_label', 'comma_separated_list_of_features'])\n",
    "    game_df.to_csv(f\"./network_processed/network_{meta_row['NETWORK']}.csv\", index=False)"
   ]
  },
  {
   "cell_type": "code",
   "execution_count": null,
   "id": "fad49e08",
   "metadata": {},
   "outputs": [],
   "source": []
  }
 ],
 "metadata": {
  "kernelspec": {
   "display_name": "Python 3 (ipykernel)",
   "language": "python",
   "name": "python3"
  },
  "language_info": {
   "codemirror_mode": {
    "name": "ipython",
    "version": 3
   },
   "file_extension": ".py",
   "mimetype": "text/x-python",
   "name": "python",
   "nbconvert_exporter": "python",
   "pygments_lexer": "ipython3",
   "version": "3.9.7"
  }
 },
 "nbformat": 4,
 "nbformat_minor": 5
}
