{
 "cells": [
  {
   "cell_type": "code",
   "execution_count": 1,
   "id": "5c247654",
   "metadata": {},
   "outputs": [
    {
     "name": "stdout",
     "output_type": "stream",
     "text": [
      "\u001b[1;34mnetwork\u001b[0m  network_list.csv  network_loader.py  Project.ipynb  \u001b[1;4;33mREADME.md\u001b[0m\r\n"
     ]
    }
   ],
   "source": [
    "!ls"
   ]
  },
  {
   "cell_type": "code",
   "execution_count": 2,
   "id": "7a14f89e",
   "metadata": {},
   "outputs": [
    {
     "name": "stdout",
     "output_type": "stream",
     "text": [
      "network id:0\t length(x 1/3 second): 7323\t num of players: 7\n",
      "network id:1\t length(x 1/3 second): 5328\t num of players: 8\n",
      "network id:2\t length(x 1/3 second): 7533\t num of players: 7\n",
      "network id:3\t length(x 1/3 second): 6264\t num of players: 7\n",
      "network id:4\t length(x 1/3 second): 7323\t num of players: 8\n",
      "network id:5\t length(x 1/3 second): 9651\t num of players: 8\n",
      "network id:6\t length(x 1/3 second): 7260\t num of players: 7\n",
      "network id:7\t length(x 1/3 second): 7245\t num of players: 6\n",
      "network id:8\t length(x 1/3 second): 6243\t num of players: 7\n",
      "network id:9\t length(x 1/3 second): 8340\t num of players: 8\n",
      "network id:10\t length(x 1/3 second): 6681\t num of players: 7\n",
      "network id:11\t length(x 1/3 second): 5415\t num of players: 7\n",
      "network id:12\t length(x 1/3 second): 5571\t num of players: 8\n",
      "network id:13\t length(x 1/3 second): 7173\t num of players: 7\n",
      "network id:14\t length(x 1/3 second): 9429\t num of players: 8\n",
      "network id:15\t length(x 1/3 second): 5466\t num of players: 6\n",
      "network id:16\t length(x 1/3 second): 6678\t num of players: 6\n",
      "network id:17\t length(x 1/3 second): 3054\t num of players: 7\n",
      "network id:18\t length(x 1/3 second): 9264\t num of players: 8\n",
      "network id:19\t length(x 1/3 second): 4248\t num of players: 5\n",
      "network id:20\t length(x 1/3 second): 6594\t num of players: 6\n",
      "network id:21\t length(x 1/3 second): 9699\t num of players: 8\n",
      "network id:22\t length(x 1/3 second): 7662\t num of players: 8\n",
      "network id:23\t length(x 1/3 second): 9537\t num of players: 8\n",
      "network id:24\t length(x 1/3 second): 7875\t num of players: 5\n",
      "network id:25\t length(x 1/3 second): 7737\t num of players: 8\n",
      "network id:26\t length(x 1/3 second): 5037\t num of players: 7\n",
      "network id:27\t length(x 1/3 second): 5229\t num of players: 8\n",
      "network id:28\t length(x 1/3 second): 7683\t num of players: 8\n",
      "network id:29\t length(x 1/3 second): 6360\t num of players: 8\n",
      "network id:30\t length(x 1/3 second): 7806\t num of players: 8\n",
      "network id:31\t length(x 1/3 second): 5496\t num of players: 8\n",
      "network id:32\t length(x 1/3 second): 5778\t num of players: 8\n",
      "network id:33\t length(x 1/3 second): 7431\t num of players: 8\n",
      "network id:34\t length(x 1/3 second): 10611\t num of players: 8\n",
      "network id:35\t length(x 1/3 second): 7011\t num of players: 7\n",
      "network id:36\t length(x 1/3 second): 7212\t num of players: 7\n",
      "network id:37\t length(x 1/3 second): 4698\t num of players: 8\n",
      "network id:38\t length(x 1/3 second): 4926\t num of players: 7\n",
      "network id:39\t length(x 1/3 second): 3678\t num of players: 7\n",
      "network id:40\t length(x 1/3 second): 6939\t num of players: 8\n",
      "network id:41\t length(x 1/3 second): 7323\t num of players: 8\n",
      "network id:42\t length(x 1/3 second): 8661\t num of players: 8\n",
      "network id:43\t length(x 1/3 second): 6048\t num of players: 7\n",
      "network id:44\t length(x 1/3 second): 8307\t num of players: 6\n",
      "network id:45\t length(x 1/3 second): 7023\t num of players: 6\n",
      "network id:46\t length(x 1/3 second): 9183\t num of players: 7\n",
      "network id:47\t length(x 1/3 second): 7428\t num of players: 7\n",
      "network id:48\t length(x 1/3 second): 2904\t num of players: 7\n",
      "network id:49\t length(x 1/3 second): 5742\t num of players: 7\n",
      "network id:50\t length(x 1/3 second): 4758\t num of players: 6\n",
      "network id:51\t length(x 1/3 second): 7320\t num of players: 7\n",
      "network id:52\t length(x 1/3 second): 5553\t num of players: 6\n",
      "network id:53\t length(x 1/3 second): 5961\t num of players: 8\n",
      "network id:54\t length(x 1/3 second): 7326\t num of players: 8\n",
      "network id:55\t length(x 1/3 second): 6828\t num of players: 7\n",
      "network id:56\t length(x 1/3 second): 8286\t num of players: 8\n",
      "network id:57\t length(x 1/3 second): 6420\t num of players: 8\n",
      "network id:58\t length(x 1/3 second): 10710\t num of players: 8\n",
      "network id:59\t length(x 1/3 second): 4518\t num of players: 7\n",
      "network id:60\t length(x 1/3 second): 6729\t num of players: 7\n",
      "network id:61\t length(x 1/3 second): 8499\t num of players: 8\n"
     ]
    }
   ],
   "source": [
    "from network_loader import loadGame"
   ]
  },
  {
   "cell_type": "code",
   "execution_count": 8,
   "id": "cb46eda2",
   "metadata": {},
   "outputs": [
    {
     "name": "stdout",
     "output_type": "stream",
     "text": [
      "network id:1\t length(x 1/3 second): 5328\t num of players: 8\n"
     ]
    }
   ],
   "source": [
    "game = loadGame(1, 8)"
   ]
  },
  {
   "cell_type": "code",
   "execution_count": 6,
   "id": "ccd15ec4",
   "metadata": {},
   "outputs": [
    {
     "data": {
      "text/plain": [
       "(5328, 8, 9)"
      ]
     },
     "execution_count": 6,
     "metadata": {},
     "output_type": "execute_result"
    }
   ],
   "source": [
    "game.shape"
   ]
  }
 ],
 "metadata": {
  "kernelspec": {
   "display_name": "Python 3 (ipykernel)",
   "language": "python",
   "name": "python3"
  },
  "language_info": {
   "codemirror_mode": {
    "name": "ipython",
    "version": 3
   },
   "file_extension": ".py",
   "mimetype": "text/x-python",
   "name": "python",
   "nbconvert_exporter": "python",
   "pygments_lexer": "ipython3",
   "version": "3.9.6"
  }
 },
 "nbformat": 4,
 "nbformat_minor": 5
}
